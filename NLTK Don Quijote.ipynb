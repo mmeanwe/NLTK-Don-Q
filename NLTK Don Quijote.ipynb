{
 "metadata": {
  "name": "",
  "signature": "sha256:a2aee4af2f1a15d31e10d62998dd60f938613d9e1396d5006ccdc71140d71d9e"
 },
 "nbformat": 3,
 "nbformat_minor": 0,
 "worksheets": [
  {
   "cells": [
    {
     "cell_type": "code",
     "collapsed": false,
     "input": [
      "import nltk"
     ],
     "language": "python",
     "metadata": {},
     "outputs": [],
     "prompt_number": 1
    },
    {
     "cell_type": "code",
     "collapsed": false,
     "input": [
      "from nltk.tokenize import sent_tokenize, word_tokenize\n",
      "from nltk.stem import PorterStemmer\n",
      "ps = PorterStemmer()"
     ],
     "language": "python",
     "metadata": {},
     "outputs": [],
     "prompt_number": 2
    },
    {
     "cell_type": "code",
     "collapsed": false,
     "input": [
      "from IPython.core.display import HTML\n",
      "HTML(\"<iframe src=https://encrypted-tbn0.gstatic.com/images?q=tbn:ANd9GcQ_QGZgMcdzWxO0St1YwpzN5kwPK5ZlUyAKycRdLl4cdDaRzqK4fA></iframe\")\n",
      "#HTML(\"<iframe src=http://pandas.pydata.org width=800 height=350></iframe>\")"
     ],
     "language": "python",
     "metadata": {},
     "outputs": [
      {
       "html": [
        "<iframe src=https://encrypted-tbn0.gstatic.com/images?q=tbn:ANd9GcQ_QGZgMcdzWxO0St1YwpzN5kwPK5ZlUyAKycRdLl4cdDaRzqK4fA></iframe"
       ],
       "metadata": {},
       "output_type": "pyout",
       "prompt_number": 6,
       "text": [
        "<IPython.core.display.HTML at 0x7695150>"
       ]
      }
     ],
     "prompt_number": 6
    },
    {
     "cell_type": "code",
     "collapsed": false,
     "input": [
      "from nltk.tokenize import sent_tokenize, PunktSentenceTokenizer\n",
      "from nltk.corpus import gutenberg\n",
      "\n",
      "# sample text\n",
      "sample = gutenberg.raw(\"donquijote.txt\")\n",
      "\n",
      "tok = sent_tokenize(sample)\n",
      "\n",
      "for x in range(5):\n",
      "    print(tok[x])"
     ],
     "language": "python",
     "metadata": {},
     "outputs": [
      {
       "output_type": "stream",
       "stream": "stdout",
       "text": [
        "\u00ef\u00bb\u00bfThe Project Gutenberg EBook of Don Quijote, by Miguel de Cervantes Saavedra\r\n",
        "\r\n",
        "This eBook is for the use of anyone anywhere at no cost and with\r\n",
        "almost no restrictions whatsoever.\n",
        "You may copy it, give it away or\r\n",
        "re-use it under the terms of the Project Gutenberg License included\r\n",
        "with this eBook or online at www.gutenberg.net\r\n",
        "\r\n",
        "\r\n",
        "Title: Don Quijote\r\n",
        "\r\n",
        "Author: Miguel de Cervantes Saavedra\r\n",
        "\r\n",
        "Posting Date: April 27, 2010 [EBook #2000]\r\n",
        "Release Date: December, 1999\r\n",
        "\r\n",
        "Language: Spanish\r\n",
        "\r\n",
        "\r\n",
        "*** START OF THIS PROJECT GUTENBERG EBOOK DON QUIJOTE ***\r\n",
        "\r\n",
        "\r\n",
        "\r\n",
        "\r\n",
        "Produced by an anonymous Project Gutenberg volunteer.\n",
        "Text\r\n",
        "file corrections and new HTML file by Joaquin Cuenca Abela.\n",
        "El ingenioso hidalgo don Quijote de la Mancha\r\n",
        "\r\n",
        "\r\n",
        "TASA\r\n",
        "\r\n",
        "Yo, Juan Gallo de Andrada, escribano de C\u00c3\u00a1mara del Rey nuestro se\u00c3\u00b1or, de\r\n",
        "los que residen en su Consejo, certifico y doy fe que, habiendo visto por\r\n",
        "los se\u00c3\u00b1ores d\u00c3\u00a9l un libro intitulado El ingenioso hidalgo de la Mancha,\r\n",
        "compuesto por Miguel de Cervantes Saavedra, tasaron cada pliego del dicho\r\n",
        "libro a tres maraved\u00c3\u00ads y medio; el cual tiene ochenta y tres pliegos, que\r\n",
        "al dicho precio monta el dicho libro docientos y noventa maraved\u00c3\u00ads y medio,\r\n",
        "en que se ha de vender en papel; y dieron licencia para que a este precio\r\n",
        "se pueda vender, y mandaron que esta tasa se ponga al principio del dicho\r\n",
        "libro, y no se pueda vender sin ella.\n",
        "Y, para que dello conste, di la\r\n",
        "presente en Valladolid, a veinte d\u00c3\u00adas del mes de deciembre de mil y\r\n",
        "seiscientos y cuatro a\u00c3\u00b1os.\n"
       ]
      }
     ],
     "prompt_number": 7
    },
    {
     "cell_type": "code",
     "collapsed": false,
     "input": [
      "donquijote_sentences = gutenberg.sents('donquijote.txt')\n",
      "donquijote_sentences[1050:1065]"
     ],
     "language": "python",
     "metadata": {},
     "outputs": [
      {
       "metadata": {},
       "output_type": "pyout",
       "prompt_number": 8,
       "text": [
        "[[u'-',\n",
        "  u'No',\n",
        "  u'vengo',\n",
        "  u',',\n",
        "  u'\\xc2',\n",
        "  u'\\xa1',\n",
        "  u'oh',\n",
        "  u'Ambrosio',\n",
        "  u'!,',\n",
        "  u'a',\n",
        "  u'ninguna',\n",
        "  u'cosa',\n",
        "  u'de',\n",
        "  u'las',\n",
        "  u'que',\n",
        "  u'has',\n",
        "  u'dicho',\n",
        "  u'-',\n",
        "  u'respondi\\xc3\\xb3',\n",
        "  u'Marcela',\n",
        "  u'-,',\n",
        "  u'sino',\n",
        "  u'a',\n",
        "  u'volver',\n",
        "  u'por',\n",
        "  u'm\\xc3',\n",
        "  u'\\xad',\n",
        "  u'misma',\n",
        "  u',',\n",
        "  u'y',\n",
        "  u'a',\n",
        "  u'dar',\n",
        "  u'a',\n",
        "  u'entender',\n",
        "  u'cu\\xc3',\n",
        "  u'\\xa1',\n",
        "  u'n',\n",
        "  u'fuera',\n",
        "  u'de',\n",
        "  u'raz\\xc3\\xb3n',\n",
        "  u'van',\n",
        "  u'todos',\n",
        "  u'aquellos',\n",
        "  u'que',\n",
        "  u'de',\n",
        "  u'sus',\n",
        "  u'penas',\n",
        "  u'y',\n",
        "  u'de',\n",
        "  u'la',\n",
        "  u'muerte',\n",
        "  u'de',\n",
        "  u'Gris\\xc3\\xb3stomo',\n",
        "  u'me',\n",
        "  u'culpan',\n",
        "  u';',\n",
        "  u'y',\n",
        "  u'as\\xc3',\n",
        "  u'\\xad,',\n",
        "  u'ruego',\n",
        "  u'a',\n",
        "  u'todos',\n",
        "  u'los',\n",
        "  u'que',\n",
        "  u'aqu\\xc3',\n",
        "  u'\\xad',\n",
        "  u'est\\xc3',\n",
        "  u'\\xa1',\n",
        "  u'is',\n",
        "  u'me',\n",
        "  u'est\\xc3',\n",
        "  u'\\xa9',\n",
        "  u'is',\n",
        "  u'atentos',\n",
        "  u',',\n",
        "  u'que',\n",
        "  u'no',\n",
        "  u'ser\\xc3',\n",
        "  u'\\xa1',\n",
        "  u'menester',\n",
        "  u'mucho',\n",
        "  u'tiempo',\n",
        "  u'ni',\n",
        "  u'gastar',\n",
        "  u'muchas',\n",
        "  u'palabras',\n",
        "  u'para',\n",
        "  u'persuadir',\n",
        "  u'una',\n",
        "  u'verdad',\n",
        "  u'a',\n",
        "  u'los',\n",
        "  u'discretos',\n",
        "  u'.'],\n",
        " [u'\\xc2',\n",
        "  u'\\xbb',\n",
        "  u'H\\xc3',\n",
        "  u'\\xad',\n",
        "  u'zome',\n",
        "  u'el',\n",
        "  u'cielo',\n",
        "  u',',\n",
        "  u'seg\\xc3\\xban',\n",
        "  u'vosotros',\n",
        "  u'dec\\xc3',\n",
        "  u'\\xad',\n",
        "  u's',\n",
        "  u',',\n",
        "  u'hermosa',\n",
        "  u',',\n",
        "  u'y',\n",
        "  u'de',\n",
        "  u'tal',\n",
        "  u'manera',\n",
        "  u'que',\n",
        "  u',',\n",
        "  u'sin',\n",
        "  u'ser',\n",
        "  u'poderosos',\n",
        "  u'a',\n",
        "  u'otra',\n",
        "  u'cosa',\n",
        "  u',',\n",
        "  u'a',\n",
        "  u'que',\n",
        "  u'me',\n",
        "  u'am\\xc3',\n",
        "  u'\\xa9',\n",
        "  u'is',\n",
        "  u'os',\n",
        "  u'mueve',\n",
        "  u'mi',\n",
        "  u'hermosura',\n",
        "  u';',\n",
        "  u'y',\n",
        "  u',',\n",
        "  u'por',\n",
        "  u'el',\n",
        "  u'amor',\n",
        "  u'que',\n",
        "  u'me',\n",
        "  u'mostr\\xc3',\n",
        "  u'\\xa1',\n",
        "  u'is',\n",
        "  u',',\n",
        "  u'dec\\xc3',\n",
        "  u'\\xad',\n",
        "  u's',\n",
        "  u',',\n",
        "  u'y',\n",
        "  u'aun',\n",
        "  u'quer\\xc3',\n",
        "  u'\\xa9',\n",
        "  u'is',\n",
        "  u',',\n",
        "  u'que',\n",
        "  u'est\\xc3',\n",
        "  u'\\xa9',\n",
        "  u'yo',\n",
        "  u'obligada',\n",
        "  u'a',\n",
        "  u'amaros',\n",
        "  u'.'],\n",
        " [u'Yo',\n",
        "  u'conozco',\n",
        "  u',',\n",
        "  u'con',\n",
        "  u'el',\n",
        "  u'natural',\n",
        "  u'entendimiento',\n",
        "  u'que',\n",
        "  u'Dios',\n",
        "  u'me',\n",
        "  u'ha',\n",
        "  u'dado',\n",
        "  u',',\n",
        "  u'que',\n",
        "  u'todo',\n",
        "  u'lo',\n",
        "  u'hermoso',\n",
        "  u'es',\n",
        "  u'amable',\n",
        "  u';',\n",
        "  u'mas',\n",
        "  u'no',\n",
        "  u'alcanzo',\n",
        "  u'que',\n",
        "  u',',\n",
        "  u'por',\n",
        "  u'raz\\xc3\\xb3n',\n",
        "  u'de',\n",
        "  u'ser',\n",
        "  u'amado',\n",
        "  u',',\n",
        "  u'est\\xc3',\n",
        "  u'\\xa9',\n",
        "  u'obligado',\n",
        "  u'lo',\n",
        "  u'que',\n",
        "  u'es',\n",
        "  u'amado',\n",
        "  u'por',\n",
        "  u'hermoso',\n",
        "  u'a',\n",
        "  u'amar',\n",
        "  u'a',\n",
        "  u'quien',\n",
        "  u'le',\n",
        "  u'ama',\n",
        "  u'.'],\n",
        " [u'Y',\n",
        "  u'm\\xc3',\n",
        "  u'\\xa1',\n",
        "  u's',\n",
        "  u',',\n",
        "  u'que',\n",
        "  u'podr\\xc3',\n",
        "  u'\\xad',\n",
        "  u'a',\n",
        "  u'acontecer',\n",
        "  u'que',\n",
        "  u'el',\n",
        "  u'amador',\n",
        "  u'de',\n",
        "  u'lo',\n",
        "  u'hermoso',\n",
        "  u'fuese',\n",
        "  u'feo',\n",
        "  u',',\n",
        "  u'y',\n",
        "  u',',\n",
        "  u'siendo',\n",
        "  u'lo',\n",
        "  u'feo',\n",
        "  u'digno',\n",
        "  u'de',\n",
        "  u'ser',\n",
        "  u'aborrecido',\n",
        "  u',',\n",
        "  u'cae',\n",
        "  u'muy',\n",
        "  u'mal',\n",
        "  u'el',\n",
        "  u'decir',\n",
        "  u\"''\",\n",
        "  u'Qui\\xc3',\n",
        "  u'\\xa9',\n",
        "  u'rote',\n",
        "  u'por',\n",
        "  u'hermosa',\n",
        "  u';',\n",
        "  u'hasme',\n",
        "  u'de',\n",
        "  u'amar',\n",
        "  u'aunque',\n",
        "  u'sea',\n",
        "  u'feo',\n",
        "  u\"''.\"],\n",
        " [u'Pero',\n",
        "  u',',\n",
        "  u'puesto',\n",
        "  u'caso',\n",
        "  u'que',\n",
        "  u'corran',\n",
        "  u'igualmente',\n",
        "  u'las',\n",
        "  u'hermosuras',\n",
        "  u',',\n",
        "  u'no',\n",
        "  u'por',\n",
        "  u'eso',\n",
        "  u'han',\n",
        "  u'de',\n",
        "  u'correr',\n",
        "  u'iguales',\n",
        "  u'los',\n",
        "  u'deseos',\n",
        "  u',',\n",
        "  u'que',\n",
        "  u'no',\n",
        "  u'todas',\n",
        "  u'hermosuras',\n",
        "  u'enamoran',\n",
        "  u';',\n",
        "  u'que',\n",
        "  u'algunas',\n",
        "  u'alegran',\n",
        "  u'la',\n",
        "  u'vista',\n",
        "  u'y',\n",
        "  u'no',\n",
        "  u'rinden',\n",
        "  u'la',\n",
        "  u'voluntad',\n",
        "  u';',\n",
        "  u'que',\n",
        "  u'si',\n",
        "  u'todas',\n",
        "  u'las',\n",
        "  u'bellezas',\n",
        "  u'enamorasen',\n",
        "  u'y',\n",
        "  u'rindiesen',\n",
        "  u',',\n",
        "  u'ser\\xc3',\n",
        "  u'\\xad',\n",
        "  u'a',\n",
        "  u'un',\n",
        "  u'andar',\n",
        "  u'las',\n",
        "  u'voluntades',\n",
        "  u'confusas',\n",
        "  u'y',\n",
        "  u'descaminadas',\n",
        "  u',',\n",
        "  u'sin',\n",
        "  u'saber',\n",
        "  u'en',\n",
        "  u'cu\\xc3',\n",
        "  u'\\xa1',\n",
        "  u'l',\n",
        "  u'hab\\xc3',\n",
        "  u'\\xad',\n",
        "  u'an',\n",
        "  u'de',\n",
        "  u'parar',\n",
        "  u';',\n",
        "  u'porque',\n",
        "  u',',\n",
        "  u'siendo',\n",
        "  u'infinitos',\n",
        "  u'los',\n",
        "  u'sujetos',\n",
        "  u'hermosos',\n",
        "  u',',\n",
        "  u'infinitos',\n",
        "  u'hab\\xc3',\n",
        "  u'\\xad',\n",
        "  u'an',\n",
        "  u'de',\n",
        "  u'ser',\n",
        "  u'los',\n",
        "  u'deseos',\n",
        "  u'.'],\n",
        " [u'Y',\n",
        "  u',',\n",
        "  u'seg\\xc3\\xban',\n",
        "  u'yo',\n",
        "  u'he',\n",
        "  u'o\\xc3',\n",
        "  u'\\xad',\n",
        "  u'do',\n",
        "  u'decir',\n",
        "  u',',\n",
        "  u'el',\n",
        "  u'verdadero',\n",
        "  u'amor',\n",
        "  u'no',\n",
        "  u'se',\n",
        "  u'divide',\n",
        "  u',',\n",
        "  u'y',\n",
        "  u'ha',\n",
        "  u'de',\n",
        "  u'ser',\n",
        "  u'voluntario',\n",
        "  u',',\n",
        "  u'y',\n",
        "  u'no',\n",
        "  u'forzoso',\n",
        "  u'.'],\n",
        " [u'Siendo',\n",
        "  u'esto',\n",
        "  u'as\\xc3',\n",
        "  u'\\xad,',\n",
        "  u'como',\n",
        "  u'yo',\n",
        "  u'creo',\n",
        "  u'que',\n",
        "  u'lo',\n",
        "  u'es',\n",
        "  u',',\n",
        "  u'\\xc2',\n",
        "  u'\\xbf',\n",
        "  u'por',\n",
        "  u'qu\\xc3',\n",
        "  u'\\xa9',\n",
        "  u'quer\\xc3',\n",
        "  u'\\xa9',\n",
        "  u'is',\n",
        "  u'que',\n",
        "  u'rinda',\n",
        "  u'mi',\n",
        "  u'voluntad',\n",
        "  u'por',\n",
        "  u'fuerza',\n",
        "  u',',\n",
        "  u'obligada',\n",
        "  u'no',\n",
        "  u'm\\xc3',\n",
        "  u'\\xa1',\n",
        "  u's',\n",
        "  u'de',\n",
        "  u'que',\n",
        "  u'dec\\xc3',\n",
        "  u'\\xad',\n",
        "  u's',\n",
        "  u'que',\n",
        "  u'me',\n",
        "  u'quer\\xc3',\n",
        "  u'\\xa9',\n",
        "  u'is',\n",
        "  u'bien',\n",
        "  u'?'],\n",
        " [u'Si',\n",
        "  u'no',\n",
        "  u',',\n",
        "  u'decidme',\n",
        "  u':',\n",
        "  u'si',\n",
        "  u'como',\n",
        "  u'el',\n",
        "  u'cielo',\n",
        "  u'me',\n",
        "  u'hizo',\n",
        "  u'hermosa',\n",
        "  u'me',\n",
        "  u'hiciera',\n",
        "  u'fea',\n",
        "  u',',\n",
        "  u'\\xc2',\n",
        "  u'\\xbf',\n",
        "  u'fuera',\n",
        "  u'justo',\n",
        "  u'que',\n",
        "  u'me',\n",
        "  u'quejara',\n",
        "  u'de',\n",
        "  u'vosotros',\n",
        "  u'porque',\n",
        "  u'no',\n",
        "  u'me',\n",
        "  u'am\\xc3',\n",
        "  u'\\xa1',\n",
        "  u'bades',\n",
        "  u'?'],\n",
        " [u'Cuanto',\n",
        "  u'm\\xc3',\n",
        "  u'\\xa1',\n",
        "  u's',\n",
        "  u',',\n",
        "  u'que',\n",
        "  u'hab\\xc3',\n",
        "  u'\\xa9',\n",
        "  u'is',\n",
        "  u'de',\n",
        "  u'considerar',\n",
        "  u'que',\n",
        "  u'yo',\n",
        "  u'no',\n",
        "  u'escog\\xc3',\n",
        "  u'\\xad',\n",
        "  u'la',\n",
        "  u'hermosura',\n",
        "  u'que',\n",
        "  u'tengo',\n",
        "  u';',\n",
        "  u'que',\n",
        "  u',',\n",
        "  u'tal',\n",
        "  u'cual',\n",
        "  u'es',\n",
        "  u',',\n",
        "  u'el',\n",
        "  u'cielo',\n",
        "  u'me',\n",
        "  u'la',\n",
        "  u'dio',\n",
        "  u'de',\n",
        "  u'gracia',\n",
        "  u',',\n",
        "  u'sin',\n",
        "  u'yo',\n",
        "  u'pedilla',\n",
        "  u'ni',\n",
        "  u'escogella',\n",
        "  u'.'],\n",
        " [u'Y',\n",
        "  u',',\n",
        "  u'as\\xc3',\n",
        "  u'\\xad',\n",
        "  u'como',\n",
        "  u'la',\n",
        "  u'v\\xc3',\n",
        "  u'\\xad',\n",
        "  u'bora',\n",
        "  u'no',\n",
        "  u'merece',\n",
        "  u'ser',\n",
        "  u'culpada',\n",
        "  u'por',\n",
        "  u'la',\n",
        "  u'ponzo\\xc3',\n",
        "  u'\\xb1',\n",
        "  u'a',\n",
        "  u'que',\n",
        "  u'tiene',\n",
        "  u',',\n",
        "  u'puesto',\n",
        "  u'que',\n",
        "  u'con',\n",
        "  u'ella',\n",
        "  u'mata',\n",
        "  u',',\n",
        "  u'por',\n",
        "  u'hab\\xc3',\n",
        "  u'\\xa9',\n",
        "  u'rsela',\n",
        "  u'dado',\n",
        "  u'naturaleza',\n",
        "  u',',\n",
        "  u'tampoco',\n",
        "  u'yo',\n",
        "  u'merezco',\n",
        "  u'ser',\n",
        "  u'reprehendida',\n",
        "  u'por',\n",
        "  u'ser',\n",
        "  u'hermosa',\n",
        "  u';',\n",
        "  u'que',\n",
        "  u'la',\n",
        "  u'hermosura',\n",
        "  u'en',\n",
        "  u'la',\n",
        "  u'mujer',\n",
        "  u'honesta',\n",
        "  u'es',\n",
        "  u'como',\n",
        "  u'el',\n",
        "  u'fuego',\n",
        "  u'apartado',\n",
        "  u'o',\n",
        "  u'como',\n",
        "  u'la',\n",
        "  u'espada',\n",
        "  u'aguda',\n",
        "  u',',\n",
        "  u'que',\n",
        "  u'ni',\n",
        "  u'\\xc3',\n",
        "  u'\\xa9',\n",
        "  u'l',\n",
        "  u'quema',\n",
        "  u'ni',\n",
        "  u'ella',\n",
        "  u'corta',\n",
        "  u'a',\n",
        "  u'quien',\n",
        "  u'a',\n",
        "  u'ellos',\n",
        "  u'no',\n",
        "  u'se',\n",
        "  u'acerca',\n",
        "  u'.'],\n",
        " [u'La',\n",
        "  u'honra',\n",
        "  u'y',\n",
        "  u'las',\n",
        "  u'virtudes',\n",
        "  u'son',\n",
        "  u'adornos',\n",
        "  u'del',\n",
        "  u'alma',\n",
        "  u',',\n",
        "  u'sin',\n",
        "  u'las',\n",
        "  u'cuales',\n",
        "  u'el',\n",
        "  u'cuerpo',\n",
        "  u',',\n",
        "  u'aunque',\n",
        "  u'lo',\n",
        "  u'sea',\n",
        "  u',',\n",
        "  u'no',\n",
        "  u'debe',\n",
        "  u'de',\n",
        "  u'parecer',\n",
        "  u'hermoso',\n",
        "  u'.'],\n",
        " [u'Pues',\n",
        "  u'si',\n",
        "  u'la',\n",
        "  u'honestidad',\n",
        "  u'es',\n",
        "  u'una',\n",
        "  u'de',\n",
        "  u'las',\n",
        "  u'virtudes',\n",
        "  u'que',\n",
        "  u'al',\n",
        "  u'cuerpo',\n",
        "  u'y',\n",
        "  u'al',\n",
        "  u'alma',\n",
        "  u'm\\xc3',\n",
        "  u'\\xa1',\n",
        "  u's',\n",
        "  u'adornan',\n",
        "  u'y',\n",
        "  u'hermosean',\n",
        "  u',',\n",
        "  u'\\xc2',\n",
        "  u'\\xbf',\n",
        "  u'por',\n",
        "  u'qu\\xc3',\n",
        "  u'\\xa9',\n",
        "  u'la',\n",
        "  u'ha',\n",
        "  u'de',\n",
        "  u'perder',\n",
        "  u'la',\n",
        "  u'que',\n",
        "  u'es',\n",
        "  u'amada',\n",
        "  u'por',\n",
        "  u'hermosa',\n",
        "  u',',\n",
        "  u'por',\n",
        "  u'corresponder',\n",
        "  u'a',\n",
        "  u'la',\n",
        "  u'intenci\\xc3\\xb3n',\n",
        "  u'de',\n",
        "  u'aquel',\n",
        "  u'que',\n",
        "  u',',\n",
        "  u'por',\n",
        "  u's\\xc3\\xb3lo',\n",
        "  u'su',\n",
        "  u'gusto',\n",
        "  u',',\n",
        "  u'con',\n",
        "  u'todas',\n",
        "  u'sus',\n",
        "  u'fuerzas',\n",
        "  u'e',\n",
        "  u'industrias',\n",
        "  u'procura',\n",
        "  u'que',\n",
        "  u'la',\n",
        "  u'pierda',\n",
        "  u'?'],\n",
        " [u'\\xc2',\n",
        "  u'\\xbb',\n",
        "  u'Yo',\n",
        "  u'nac\\xc3',\n",
        "  u'\\xad',\n",
        "  u'libre',\n",
        "  u',',\n",
        "  u'y',\n",
        "  u'para',\n",
        "  u'poder',\n",
        "  u'vivir',\n",
        "  u'libre',\n",
        "  u'escog\\xc3',\n",
        "  u'\\xad',\n",
        "  u'la',\n",
        "  u'soledad',\n",
        "  u'de',\n",
        "  u'los',\n",
        "  u'campos',\n",
        "  u'.'],\n",
        " [u'Los',\n",
        "  u'\\xc3',\n",
        "  u'\\xa1',\n",
        "  u'rboles',\n",
        "  u'destas',\n",
        "  u'monta\\xc3',\n",
        "  u'\\xb1',\n",
        "  u'as',\n",
        "  u'son',\n",
        "  u'mi',\n",
        "  u'compa\\xc3',\n",
        "  u'\\xb1',\n",
        "  u'\\xc3',\n",
        "  u'\\xad',\n",
        "  u'a',\n",
        "  u',',\n",
        "  u'las',\n",
        "  u'claras',\n",
        "  u'aguas',\n",
        "  u'destos',\n",
        "  u'arroyos',\n",
        "  u'mis',\n",
        "  u'espejos',\n",
        "  u';',\n",
        "  u'con',\n",
        "  u'los',\n",
        "  u'\\xc3',\n",
        "  u'\\xa1',\n",
        "  u'rboles',\n",
        "  u'y',\n",
        "  u'con',\n",
        "  u'las',\n",
        "  u'aguas',\n",
        "  u'comunico',\n",
        "  u'mis',\n",
        "  u'pensamientos',\n",
        "  u'y',\n",
        "  u'hermosura',\n",
        "  u'.'],\n",
        " [u'Fuego', u'soy', u'apartado', u'y', u'espada', u'puesta', u'lejos', u'.']]"
       ]
      }
     ],
     "prompt_number": 8
    },
    {
     "cell_type": "code",
     "collapsed": false,
     "input": [
      "TEXT = gutenberg.raw(\"donquijote.txt\")\n",
      "len(TEXT)"
     ],
     "language": "python",
     "metadata": {},
     "outputs": [
      {
       "metadata": {},
       "output_type": "pyout",
       "prompt_number": 9,
       "text": [
        "2198927"
       ]
      }
     ],
     "prompt_number": 9
    },
    {
     "cell_type": "code",
     "collapsed": false,
     "input": [
      "tokens = nltk.word_tokenize(TEXT)"
     ],
     "language": "python",
     "metadata": {},
     "outputs": [],
     "prompt_number": 10
    },
    {
     "cell_type": "code",
     "collapsed": false,
     "input": [
      "type(tokens)"
     ],
     "language": "python",
     "metadata": {},
     "outputs": [
      {
       "metadata": {},
       "output_type": "pyout",
       "prompt_number": 11,
       "text": [
        "list"
       ]
      }
     ],
     "prompt_number": 11
    },
    {
     "cell_type": "code",
     "collapsed": false,
     "input": [
      "len(tokens)"
     ],
     "language": "python",
     "metadata": {},
     "outputs": [
      {
       "metadata": {},
       "output_type": "pyout",
       "prompt_number": 12,
       "text": [
        "441840"
       ]
      }
     ],
     "prompt_number": 12
    },
    {
     "cell_type": "code",
     "collapsed": false,
     "input": [
      "tokens[:10]"
     ],
     "language": "python",
     "metadata": {},
     "outputs": [
      {
       "metadata": {},
       "output_type": "pyout",
       "prompt_number": 13,
       "text": [
        "[u'\\xef\\xbb\\xbfThe',\n",
        " u'Project',\n",
        " u'Gutenberg',\n",
        " u'EBook',\n",
        " u'of',\n",
        " u'Don',\n",
        " u'Quijote',\n",
        " u',',\n",
        " u'by',\n",
        " u'Miguel']"
       ]
      }
     ],
     "prompt_number": 13
    },
    {
     "cell_type": "code",
     "collapsed": false,
     "input": [
      "text = nltk.Text(tokens)"
     ],
     "language": "python",
     "metadata": {},
     "outputs": [],
     "prompt_number": 14
    },
    {
     "cell_type": "code",
     "collapsed": false,
     "input": [
      "text[1020:1040]"
     ],
     "language": "python",
     "metadata": {},
     "outputs": [
      {
       "metadata": {},
       "output_type": "pyout",
       "prompt_number": 15,
       "text": [
        "[u'Alcocer',\n",
        " u',',\n",
        " u'se\\xc3\\xb1or',\n",
        " u'de',\n",
        " u'las',\n",
        " u'villas',\n",
        " u'de',\n",
        " u'Capilla',\n",
        " u',',\n",
        " u'Curiel',\n",
        " u'y',\n",
        " u'Burguillos',\n",
        " u'En',\n",
        " u'fe',\n",
        " u'del',\n",
        " u'buen',\n",
        " u'acogimiento',\n",
        " u'y',\n",
        " u'honra',\n",
        " u'que']"
       ]
      }
     ],
     "prompt_number": 15
    },
    {
     "cell_type": "code",
     "collapsed": false,
     "input": [
      "from collections import Counter\n",
      "from __future__ import division  \n",
      "import string\n",
      "import regex as re\n",
      "print text.count('Don')\n",
      "print text.count('Sancho')\n",
      "print text.count('Quijote')"
     ],
     "language": "python",
     "metadata": {},
     "outputs": [
      {
       "output_type": "stream",
       "stream": "stdout",
       "text": [
        "97\n",
        "1623"
       ]
      },
      {
       "output_type": "stream",
       "stream": "stdout",
       "text": [
        "\n",
        "1645"
       ]
      },
      {
       "output_type": "stream",
       "stream": "stdout",
       "text": [
        "\n"
       ]
      }
     ],
     "prompt_number": 16
    },
    {
     "cell_type": "code",
     "collapsed": false,
     "input": [
      "text.collocations()"
     ],
     "language": "python",
     "metadata": {},
     "outputs": [
      {
       "output_type": "stream",
       "stream": "stdout",
       "text": [
        "vuestra merced; Sancho Panza; -respondi\u00c3\u00b3 Sancho-; vuesa merced;\n",
        "caballeros andantes; -dijo Sancho-; los ojos; todos los; del Toboso;\n",
        "otra cosa; caballero andante; sin duda; las manos; todas las; Project\n",
        "Gutenberg-tm; muchas veces; se\u00c3\u00b1ora Dulcinea; cada uno; Triste Figura;\n",
        "los dos\n"
       ]
      }
     ],
     "prompt_number": 17
    },
    {
     "cell_type": "code",
     "collapsed": false,
     "input": [
      "text.concordance('caballero')"
     ],
     "language": "python",
     "metadata": {},
     "outputs": [
      {
       "output_type": "stream",
       "stream": "stdout",
       "text": [
        "Displaying 25 of 646 matches:\n",
        "ar a luz las haza\u00c3\u00b1as de tan noble caballero . -Porque , \u00c2\u00bfc\u00c3\u00b3mo quer\u00c3\u00a9is vos q\n",
        "casto enamorado y el m\u00c3\u00a1s valiente caballero que de muchos a\u00c3\u00b1os a esta parte s\n",
        " a conocer tan noble y tan honrado caballero , pero quiero que me agradezcas el\n",
        " y dije y hice m\u00c3\u00a1s que en el orbe caballero andante ; fui diestro , fui valien\n",
        "a y cuerpo adornara , y del famoso caballero que hiciste venturoso mirara algun\n",
        "guales en amor con mal suceso . EL CABALLERO DEL FEBO A DON QUIJOTE DE LA MANCH\n",
        "Con estas razones perd\u00c3\u00ada el pobre caballero el juicio , y desvel\u00c3\u00a1base por ent\n",
        "a- , sobre cu\u00c3\u00a1l hab\u00c3\u00ada sido mejor caballero : Palmer\u00c3\u00adn de Ingalaterra o Amad\u00c3\n",
        "lo , dec\u00c3\u00ada que ninguno llegaba al Caballero del Febo , y que si alguno se le p\n",
        " condici\u00c3\u00b3n para todo ; que no era caballero melindroso , ni tan llor\u00c3\u00b3n como s\n",
        "Cid Ruy D\u00c3\u00adaz hab\u00c3\u00ada sido muy buen caballero , pero que no ten\u00c3\u00ada que ver con e\n",
        " pero que no ten\u00c3\u00ada que ver con el Caballero de la Ardiente Espada , que de s\u00c3\u00b3\n",
        "ervicio de su rep\u00c3\u00bablica , hacerse caballero andante , y irse por todo el mundo\n",
        "smo , no era raz\u00c3\u00b3n que caballo de caballero tan famoso , y tan bueno \u00c3\u00a9l por s\n",
        "n hab\u00c3\u00ada sido , antes que fuese de caballero andante , y lo que era entonces ; \n",
        " de Gaula , as\u00c3\u00ad quiso , como buen caballero , a\u00c3\u00b1adir al suyo el nombre de la \n",
        "ma de quien enamorarse ; porque el caballero andante sin amores era \u00c3\u00a1rbol sin \n",
        "lla el jam\u00c3\u00a1s como se debe alabado caballero don Quijote de la Mancha , el cual\n",
        "\u00a1Oh , c\u00c3\u00b3mo se holg\u00c3\u00b3 nuestro buen caballero cuando hubo hecho este discurso , \n",
        "ino a la memoria que no era armado caballero , y que , conforme a ley de caball\n",
        " ni deb\u00c3\u00ada tomar armas con ning\u00c3\u00ban caballero ; y , puesto que lo fuera , hab\u00c3\u00ada\n",
        " llevar armas blancas , como novel caballero , sin empresa en el escudo , hasta\n",
        " alguna , propuso de hacerse armar caballero del primero que topase , a imitaci\n",
        "les se mostraba , cuando el famoso caballero don Quijote de la Mancha , dejando\n",
        "con alguna trompeta de que llegaba caballero al castillo . Pero , como vio que \n"
       ]
      }
     ],
     "prompt_number": 18
    },
    {
     "cell_type": "code",
     "collapsed": false,
     "input": [
      "import regex as re\n",
      "def tokens(text):\n",
      "    \"List all the word tokens (consecutive letters) in a text. Normalize to lowercase.\"\n",
      "    return re.findall('[a-z]+', text.lower()) "
     ],
     "language": "python",
     "metadata": {},
     "outputs": [],
     "prompt_number": 19
    },
    {
     "cell_type": "code",
     "collapsed": false,
     "input": [
      "tokens('This is: A test, 1, 2, 3, this is.')"
     ],
     "language": "python",
     "metadata": {},
     "outputs": [
      {
       "metadata": {},
       "output_type": "pyout",
       "prompt_number": 20,
       "text": [
        "['this', 'is', 'a', 'test', 'this', 'is']"
       ]
      }
     ],
     "prompt_number": 20
    },
    {
     "cell_type": "code",
     "collapsed": false,
     "input": [
      "WORDS = tokens(TEXT)\n",
      "len(WORDS)"
     ],
     "language": "python",
     "metadata": {},
     "outputs": [
      {
       "metadata": {},
       "output_type": "pyout",
       "prompt_number": 21,
       "text": [
        "410875"
       ]
      }
     ],
     "prompt_number": 21
    },
    {
     "cell_type": "code",
     "collapsed": false,
     "input": [
      "type(WORDS)"
     ],
     "language": "python",
     "metadata": {},
     "outputs": [
      {
       "metadata": {},
       "output_type": "pyout",
       "prompt_number": 22,
       "text": [
        "list"
       ]
      }
     ],
     "prompt_number": 22
    },
    {
     "cell_type": "code",
     "collapsed": false,
     "input": [
      "type(TEXT)"
     ],
     "language": "python",
     "metadata": {},
     "outputs": [
      {
       "metadata": {},
       "output_type": "pyout",
       "prompt_number": 23,
       "text": [
        "unicode"
       ]
      }
     ],
     "prompt_number": 23
    },
    {
     "cell_type": "code",
     "collapsed": false,
     "input": [
      "print(WORDS[50:150])"
     ],
     "language": "python",
     "metadata": {},
     "outputs": [
      {
       "output_type": "stream",
       "stream": "stdout",
       "text": [
        "[u'with', u'this', u'ebook', u'or', u'online', u'at', u'www', u'gutenberg', u'net', u'title', u'don', u'quijote', u'author', u'miguel', u'de', u'cervantes', u'saavedra', u'posting', u'date', u'april', u'ebook', u'release', u'date', u'december', u'language', u'spanish', u'start', u'of', u'this', u'project', u'gutenberg', u'ebook', u'don', u'quijote', u'produced', u'by', u'an', u'anonymous', u'project', u'gutenberg', u'volunteer', u'text', u'file', u'corrections', u'and', u'new', u'html', u'file', u'by', u'joaquin', u'cuenca', u'abela', u'el', u'ingenioso', u'hidalgo', u'don', u'quijote', u'de', u'la', u'mancha', u'tasa', u'yo', u'juan', u'gallo', u'de', u'andrada', u'escribano', u'de', u'c', u'mara', u'del', u'rey', u'nuestro', u'se', u'or', u'de', u'los', u'que', u'residen', u'en', u'su', u'consejo', u'certifico', u'y', u'doy', u'fe', u'que', u'habiendo', u'visto', u'por', u'los', u'se', u'ores', u'd', u'l', u'un', u'libro', u'intitulado', u'el', u'ingenioso']\n"
       ]
      }
     ],
     "prompt_number": 24
    },
    {
     "cell_type": "code",
     "collapsed": false,
     "input": [
      "WORDS.index('gallo')"
     ],
     "language": "python",
     "metadata": {},
     "outputs": [
      {
       "metadata": {},
       "output_type": "pyout",
       "prompt_number": 25,
       "text": [
        "113"
       ]
      }
     ],
     "prompt_number": 25
    },
    {
     "cell_type": "code",
     "collapsed": false,
     "input": [
      "WORDS.index('caballero')"
     ],
     "language": "python",
     "metadata": {},
     "outputs": [
      {
       "metadata": {},
       "output_type": "pyout",
       "prompt_number": 26,
       "text": [
        "1678"
       ]
      }
     ],
     "prompt_number": 26
    },
    {
     "cell_type": "code",
     "collapsed": false,
     "input": [
      "#counts = {}"
     ],
     "language": "python",
     "metadata": {},
     "outputs": [],
     "prompt_number": 27
    },
    {
     "cell_type": "code",
     "collapsed": false,
     "input": [
      "#for word in WORDS:\n",
      "#    if word in counts:\n",
      "#        counts[word] = counts[word] + 1\n",
      "#    else:\n",
      "#        counts[word] = 1\n",
      "#print(counts)"
     ],
     "language": "python",
     "metadata": {},
     "outputs": [],
     "prompt_number": 28
    },
    {
     "cell_type": "code",
     "collapsed": false,
     "input": [
      "#def counter(list_to_search):\n",
      "#    counts = {}\n",
      "#    for word in list_to_search:\n",
      "#        if word in counts:\n",
      "#            counts[word] = counts[word] + 1\n",
      "#        else:\n",
      "#            counts[word] = 1\n",
      "#    return counts"
     ],
     "language": "python",
     "metadata": {},
     "outputs": [],
     "prompt_number": 29
    },
    {
     "cell_type": "code",
     "collapsed": false,
     "input": [
      "#print(counter(WORDS))"
     ],
     "language": "python",
     "metadata": {},
     "outputs": [],
     "prompt_number": 30
    },
    {
     "cell_type": "code",
     "collapsed": false,
     "input": [
      "def count_in_list(item_to_count, list_to_search):\n",
      "    number_of_hits = 0\n",
      "    for word in list_to_search:\n",
      "        if word == item_to_count:\n",
      "            number_of_hits += 1\n",
      "    return number_of_hits"
     ],
     "language": "python",
     "metadata": {},
     "outputs": [],
     "prompt_number": 31
    },
    {
     "cell_type": "code",
     "collapsed": false,
     "input": [
      "#unique_words = set(WORDS)\n",
      "#for word in unique_words:\n",
      "#    print(word, count_in_list(word,WORDS))"
     ],
     "language": "python",
     "metadata": {},
     "outputs": [],
     "prompt_number": 32
    },
    {
     "cell_type": "code",
     "collapsed": false,
     "input": [
      "caballero_in_text = []\n",
      "for caballero in WORDS:\n",
      "    caballero_in_text.append(len(caballero))\n",
      "print(caballero_in_text[:10])"
     ],
     "language": "python",
     "metadata": {},
     "outputs": [
      {
       "output_type": "stream",
       "stream": "stdout",
       "text": [
        "[3, 7, 9, 5, 2, 3, 7, 2, 6, 2]\n"
       ]
      }
     ],
     "prompt_number": 33
    },
    {
     "cell_type": "code",
     "collapsed": false,
     "input": [
      "max(caballero_in_text)"
     ],
     "language": "python",
     "metadata": {},
     "outputs": [
      {
       "metadata": {},
       "output_type": "pyout",
       "prompt_number": 34,
       "text": [
        "21"
       ]
      }
     ],
     "prompt_number": 34
    },
    {
     "cell_type": "code",
     "collapsed": false,
     "input": [
      "from nltk import FreqDist\n",
      "fdist1 = FreqDist(WORDS)"
     ],
     "language": "python",
     "metadata": {},
     "outputs": [],
     "prompt_number": 35
    },
    {
     "cell_type": "code",
     "collapsed": false,
     "input": [
      "fdist1 = FreqDist(WORDS)\n",
      "print(fdist1)"
     ],
     "language": "python",
     "metadata": {},
     "outputs": [
      {
       "output_type": "stream",
       "stream": "stdout",
       "text": [
        "<FreqDist with 20825 samples and 410875 outcomes>\n"
       ]
      }
     ],
     "prompt_number": 36
    },
    {
     "cell_type": "code",
     "collapsed": false,
     "input": [
      "fdist1.most_common(15)"
     ],
     "language": "python",
     "metadata": {},
     "outputs": [
      {
       "metadata": {},
       "output_type": "pyout",
       "prompt_number": 37,
       "text": [
        "[(u'que', 20628),\n",
        " (u'de', 18217),\n",
        " (u'y', 18197),\n",
        " (u'a', 15627),\n",
        " (u'la', 10399),\n",
        " (u'en', 8251),\n",
        " (u'el', 8216),\n",
        " (u'se', 6970),\n",
        " (u'no', 6384),\n",
        " (u'los', 4755),\n",
        " (u'con', 4202),\n",
        " (u'n', 4177),\n",
        " (u's', 4114),\n",
        " (u'por', 3940),\n",
        " (u'le', 3680)]"
       ]
      }
     ],
     "prompt_number": 37
    },
    {
     "cell_type": "code",
     "collapsed": false,
     "input": [
      "len(WORDS) / len(set(WORDS)) "
     ],
     "language": "python",
     "metadata": {},
     "outputs": [
      {
       "metadata": {},
       "output_type": "pyout",
       "prompt_number": 38,
       "text": [
        "19.729891956782712"
       ]
      }
     ],
     "prompt_number": 38
    },
    {
     "cell_type": "code",
     "collapsed": false,
     "input": [
      "def lexical_diversity(WORDS): \n",
      "     return len(WORDS) / len(set(WORDS)) \n",
      "    \n",
      "print lexical_diversity  "
     ],
     "language": "python",
     "metadata": {},
     "outputs": [
      {
       "output_type": "stream",
       "stream": "stdout",
       "text": [
        "<function lexical_diversity at 0x0778BF30>\n"
       ]
      }
     ],
     "prompt_number": 39
    },
    {
     "cell_type": "code",
     "collapsed": false,
     "input": [
      "lexical_diversity(WORDS)"
     ],
     "language": "python",
     "metadata": {},
     "outputs": [
      {
       "metadata": {},
       "output_type": "pyout",
       "prompt_number": 40,
       "text": [
        "19.729891956782712"
       ]
      }
     ],
     "prompt_number": 40
    },
    {
     "cell_type": "code",
     "collapsed": false,
     "input": [
      "%matplotlib inline\n",
      "import matplotlib as plt\n",
      "fdist1.plot(20, cumulative=True)\n"
     ],
     "language": "python",
     "metadata": {},
     "outputs": [
      {
       "metadata": {},
       "output_type": "display_data",
       "png": "[encoded data removed]",
       "text": [
        "<matplotlib.figure.Figure at 0x124229d0>"
       ]
      }
     ],
     "prompt_number": 41
    },
    {
     "cell_type": "code",
     "collapsed": false,
     "input": [
      "long_words = [w for w in WORDS if len(w) >16]\n",
      "sorted(long_words)"
     ],
     "language": "python",
     "metadata": {},
     "outputs": [
      {
       "metadata": {},
       "output_type": "pyout",
       "prompt_number": 42,
       "text": [
        "[u'bienintencionadamente',\n",
        " u'desagradecimiento',\n",
        " u'desagradecimiento',\n",
        " u'desagradecimiento',\n",
        " u'desagradecimiento',\n",
        " u'desalumbradamente',\n",
        " u'desembarazadamente',\n",
        " u'estraordinariamente',\n",
        " u'extraordinariamente']"
       ]
      }
     ],
     "prompt_number": 42
    },
    {
     "cell_type": "code",
     "collapsed": false,
     "input": [
      "from nltk.corpus import udhr\n",
      "%matplotlib inline\n",
      "languages = ['English', 'Spanish']\n",
      "cfd = nltk.ConditionalFreqDist(\n",
      "          (lang, len(word))\n",
      "           for lang in languages\n",
      "           for word in udhr.words(lang + '-Latin1'))\n",
      "cfd.plot(cumulative=True)"
     ],
     "language": "python",
     "metadata": {},
     "outputs": [
      {
       "metadata": {},
       "output_type": "display_data",
       "png": "[encoded data removed]",
       "text": [
        "<matplotlib.figure.Figure at 0x124d1ad0>"
       ]
      }
     ],
     "prompt_number": 43
    },
    {
     "cell_type": "code",
     "collapsed": false,
     "input": [
      "nltk.corpus.cess_esp.words()"
     ],
     "language": "python",
     "metadata": {},
     "outputs": [
      {
       "metadata": {},
       "output_type": "pyout",
       "prompt_number": 44,
       "text": [
        "[u'El', u'grupo', u'estatal', ...]"
       ]
      }
     ],
     "prompt_number": 44
    },
    {
     "cell_type": "code",
     "collapsed": false,
     "input": [
      "tricky = sorted([w for w in set(WORDS) if 'cientes' in w or 'cei' in w]) \n",
      "for word in tricky: \n",
      "    print word,"
     ],
     "language": "python",
     "metadata": {},
     "outputs": [
      {
       "output_type": "stream",
       "stream": "stdout",
       "text": [
        "aceite aceitera aceitunas lucientes maldicientes pertenecientes receipt receive received receiving resplandecientes suficientes\n"
       ]
      }
     ],
     "prompt_number": 45
    },
    {
     "cell_type": "code",
     "collapsed": false,
     "input": [
      "[w for w in WORDS if re.search('ramente$', w)]"
     ],
     "language": "python",
     "metadata": {},
     "outputs": [
      {
       "metadata": {},
       "output_type": "pyout",
       "prompt_number": 46,
       "text": [
        "[u'seguramente',\n",
        " u'seguramente',\n",
        " u'verdaderamente',\n",
        " u'ligeramente',\n",
        " u'verdaderamente',\n",
        " u'claramente',\n",
        " u'seguramente',\n",
        " u'verdaderamente',\n",
        " u'verdaderamente',\n",
        " u'verdaderamente',\n",
        " u'verdaderamente',\n",
        " u'claramente',\n",
        " u'verdaderamente',\n",
        " u'verdaderamente',\n",
        " u'verdaderamente',\n",
        " u'verdaderamente',\n",
        " u'verdaderamente',\n",
        " u'claramente',\n",
        " u'verdaderamente',\n",
        " u'verdaderamente',\n",
        " u'verdaderamente',\n",
        " u'primeramente',\n",
        " u'verdaderamente',\n",
        " u'seguramente',\n",
        " u'verdaderamente',\n",
        " u'claramente',\n",
        " u'verdaderamente',\n",
        " u'claramente',\n",
        " u'verdaderamente',\n",
        " u'verdaderamente',\n",
        " u'verdaderamente',\n",
        " u'claramente',\n",
        " u'seguramente',\n",
        " u'claramente',\n",
        " u'ligeramente',\n",
        " u'verdaderamente',\n",
        " u'seguramente',\n",
        " u'seguramente',\n",
        " u'verdaderamente',\n",
        " u'seguramente',\n",
        " u'verdaderamente',\n",
        " u'verdaderamente',\n",
        " u'verdaderamente',\n",
        " u'meramente',\n",
        " u'verdaderamente',\n",
        " u'verdaderamente',\n",
        " u'claramente',\n",
        " u'verdaderamente',\n",
        " u'diestramente',\n",
        " u'primeramente',\n",
        " u'verdaderamente',\n",
        " u'claramente',\n",
        " u'speramente',\n",
        " u'verdaderamente',\n",
        " u'verdaderamente',\n",
        " u'bizarramente',\n",
        " u'verdaderamente',\n",
        " u'verdaderamente',\n",
        " u'verdaderamente',\n",
        " u'primeramente',\n",
        " u'verdaderamente',\n",
        " u'verdaderamente',\n",
        " u'verdaderamente',\n",
        " u'verdaderamente',\n",
        " u'verdaderamente',\n",
        " u'verdaderamente',\n",
        " u'claramente',\n",
        " u'bizarramente',\n",
        " u'verdaderamente',\n",
        " u'verdaderamente',\n",
        " u'verdaderamente',\n",
        " u'claramente',\n",
        " u'verdaderamente',\n",
        " u'verdaderamente',\n",
        " u'verdaderamente',\n",
        " u'verdaderamente',\n",
        " u'verdaderamente',\n",
        " u'enteramente']"
       ]
      }
     ],
     "prompt_number": 46
    },
    {
     "cell_type": "code",
     "collapsed": false,
     "input": [
      "donquijote = nltk.Text(nltk.corpus.gutenberg.words('donquijote.txt'))"
     ],
     "language": "python",
     "metadata": {},
     "outputs": [],
     "prompt_number": 47
    },
    {
     "cell_type": "code",
     "collapsed": false,
     "input": [
      "donquijote.concordance(\"reina\")"
     ],
     "language": "python",
     "metadata": {},
     "outputs": [
      {
       "output_type": "stream",
       "stream": "stdout",
       "text": [
        "Displaying 25 of 56 matches:\n",
        "ura -; que , a trueco de quemar a la reina Pintiquiniestra , y al pastor Darine\n",
        "rez , mi o\u00c3 \u00ad slo , vendr\u00c3 \u00ad a a ser reina , y mis hijos infantes . - Pues , \u00c2 \n",
        " , que no vale dos maraved\u00c3 \u00ad s para reina ; condesa le caer\u00c3 \u00a1 mejor , y aun D\n",
        "tan de don Lanzarote del Lago con la reina Ginebra , siendo medianera dellos y \n",
        "os , ha de ser de princesa , pues es reina y se\u00c3 \u00b1 ora m\u00c3 \u00ad a ; su hermosura , \n",
        "ulcinea del Toboso , aunque la mesma reina Ginebra con su dama Quinta\u00c3 \u00b1 ona se\n",
        "de no comer pan a manteles ni con la reina folgar , con todo aquello que a esto\n",
        " la mano al aposento de la se\u00c3 \u00b1 ora reina , adonde el caballero la hallar\u00c3 \u00a1 c\n",
        "ida la noche , cenar\u00c3 \u00a1 con el rey , reina e infanta , donde nunca quitar\u00c3 \u00a1 lo\n",
        "na , vase a despedir del rey y de la reina y de la infanta ; d\u00c3 \u00ad cenle , habi\u00c3\n",
        "ro Elisabat estaba amancebado con la reina Mad\u00c3 \u00a9 sima . - Eso no , \u00c2 \u00a1 voto a \n",
        "ellaquer\u00c3 \u00ad a , por mejor decir : la reina Mad\u00c3 \u00a1 sima fue muy principal se\u00c3 \u00b1 \n",
        "a merced en volver tanto por aquella reina Magimasa , o como se llama ? O , \u00c2 \u00bf\n",
        "y cu\u00c3 \u00a1 n principal se\u00c3 \u00b1 ora era la reina Mad\u00c3 \u00a1 sima , yo s\u00c3 \u00a9 que dijeras qu\n",
        "an blasfemia decir ni pensar que una reina est\u00c3 \u00a9 amancebada con un cirujano . \n",
        "y sirvi\u00c3\u00b3 de ayo y de m\u00c3 \u00a9 dico a la reina ; pero pensar que ella era su amiga \n",
        " de tan alta guisa y pro como fue la reina Mad\u00c3 \u00a1 sima , a quien yo tengo parti\n",
        "ide es la alta princesa Micomicona , reina del gran reino Micomic\u00c3\u00b3n de Etiop\u00c3 \n",
        "cia que mi madre , que se llamaba la reina Jaramilla , hab\u00c3 \u00ad a de morir primer\n",
        "ijote , que ya me cuento y tengo por reina y se\u00c3 \u00b1 ora de todo mi reino , pues \n",
        "ira si tenemos ya reino que mandar y reina con quien casar . - \u00c2 \u00a1 Eso juro yo \n",
        "do ! Pues , \u00c2 \u00a1 monta que es mala la reina ! \u00c2 \u00a1 As\u00c3 \u00ad se me vuelvan las pulgas\n",
        "en se\u00c3 \u00b1 al que la recib\u00c3 \u00ad a por su reina y se\u00c3 \u00b1 ora . \u00c2 \u00bf Qui\u00c3 \u00a9 n no hab\u00c3 \u00ad\n",
        " vuestra merced una por una con esta reina , ahora que la tenemos aqu\u00c3 \u00ad como l\n",
        "gaste , \u00c2 \u00bf y qu\u00c3 \u00a9 hac\u00c3 \u00ad a aquella reina de la hermosura ? A buen seguro que \n"
       ]
      }
     ],
     "prompt_number": 48
    },
    {
     "cell_type": "code",
     "collapsed": false,
     "input": [
      "#emmaText = nltk.Text(emmaWords)\n",
      "#emmaText.collocations(20) # 20 top bigrams separated by semi-colon\n",
      "donquijoteText = nltk.Text(nltk.corpus.gutenberg.words('donquijote.txt'))\n",
      "donquijoteText.collocations(20)"
     ],
     "language": "python",
     "metadata": {},
     "outputs": [
      {
       "output_type": "stream",
       "stream": "stdout",
       "text": [
        "vuestra merced; Sancho Panza; vuesa merced; respondi\u00c3\u00b3 Sancho;\n",
        "caballeros andantes; Project Gutenberg; todos los; los ojos; del\n",
        "Toboso; otra cosa; caballero andante; sin duda; dijo Sancho; las\n",
        "manos; todas las; muchas veces; Triste Figura; cada uno; ora Dulcinea;\n",
        "los dos\n"
       ]
      }
     ],
     "prompt_number": 49
    },
    {
     "cell_type": "code",
     "collapsed": false,
     "input": [
      "donquijoteTokens = list(nltk.corpus.gutenberg.words(\"donquijote.txt\")) # note the use of words() to load tokens\n",
      "donquijoteWords = [word for word in donquijoteTokens if word[0].isalpha()] # filter out non-words\n"
     ],
     "language": "python",
     "metadata": {},
     "outputs": [],
     "prompt_number": 50
    },
    {
     "cell_type": "code",
     "collapsed": false,
     "input": [
      "donquijoteFirstSixWords = \" \".join(donquijoteWords[:6]) # join first six words with spaces\n",
      "print(\"first six words: \", donquijoteFirstSixWords)\n",
      "donquijoteBigrams = list(nltk.ngrams(donquijoteWords, 2)) # create bigrams (ngrams of 2) from our emmaTokens\n",
      "donquijoteBigrams[:5] # convert to a list and show the first 5 entries"
     ],
     "language": "python",
     "metadata": {},
     "outputs": [
      {
       "output_type": "stream",
       "stream": "stdout",
       "text": [
        "('first six words: ', u'\\xef The Project Gutenberg EBook of')\n"
       ]
      },
      {
       "metadata": {},
       "output_type": "pyout",
       "prompt_number": 51,
       "text": [
        "[(u'\\xef', u'The'),\n",
        " (u'The', u'Project'),\n",
        " (u'Project', u'Gutenberg'),\n",
        " (u'Gutenberg', u'EBook'),\n",
        " (u'EBook', u'of')]"
       ]
      }
     ],
     "prompt_number": 51
    },
    {
     "cell_type": "code",
     "collapsed": false,
     "input": [
      "print(\"number of words:\", len(donquijoteWords))\n",
      "print(\"number of ngrams:\", len(donquijoteBigrams))"
     ],
     "language": "python",
     "metadata": {},
     "outputs": [
      {
       "output_type": "stream",
       "stream": "stdout",
       "text": [
        "('number of words:', 410362)\n",
        "('number of ngrams:', 410361)\n"
       ]
      }
     ],
     "prompt_number": 52
    },
    {
     "cell_type": "code",
     "collapsed": false,
     "input": [
      "#raw = unicode('donquijote.txt', 'utf-8')\n",
      "donquijote4grams = list(nltk.ngrams(donquijoteWords, 4)) # create four-grams\n",
      "donquijote4gramsFreqs = nltk.FreqDist(donquijote4grams) # determine frequency of four-grams\n",
      "for words, count in donquijote4gramsFreqs.most_common(15): # for the 15 most common four-grams\n",
      "    print(count, \" \".join(list(words))) # show the count and the create a string from the tuple"
     ],
     "language": "python",
     "metadata": {},
     "outputs": [
      {
       "output_type": "stream",
       "stream": "stdout",
       "text": [
        "(135, u'se\\xc3 or don Quijote')\n",
        "(127, u'don Quijote de la')\n",
        "(126, u'Quijote de la Mancha')\n",
        "(65, u'se\\xc3 or m\\xc3 o')\n",
        "(62, u'vuestra merced se\\xc3 or')\n",
        "(60, u'Sancho dijo don Quijote')\n",
        "(57, u'dijo don Quijote que')\n",
        "(48, u'que hab\\xc3 a de')\n",
        "(48, u'respondi\\xc3\\xb3 don Quijote que')\n",
        "(44, u'de don Quijote y')\n",
        "(44, u'de la Triste Figura')\n",
        "(43, u'la se\\xc3 ora Dulcinea')\n",
        "(43, u'se\\xc3 ora Dulcinea del')\n",
        "(43, u'ora Dulcinea del Toboso')\n",
        "(40, u'que le hab\\xc3 a')\n"
       ]
      }
     ],
     "prompt_number": 53
    },
    {
     "cell_type": "code",
     "collapsed": false,
     "input": [
      "donquijoteTokens = list(nltk.corpus.gutenberg.words(\"donquijote.txt\"))\n",
      "donquijoteWordTokens = [word for word in donquijoteTokens if word[0].isalpha()]\n",
      "donquijoteWordTokensLowercase = [word.lower() for word in donquijoteWordTokens]"
     ],
     "language": "python",
     "metadata": {},
     "outputs": [],
     "prompt_number": 54
    },
    {
     "cell_type": "code",
     "collapsed": false,
     "input": [
      "print(\"Number of lowercase matches: \", TEXT.count(\"caballero\"))\n",
      "print(\"Number of upper-case matches: \", TEXT.count(\"CABALLERO\"))\n",
      "print(\"Number of converted lower-case matches: \", TEXT.lower().count(\"caballero\"))"
     ],
     "language": "python",
     "metadata": {},
     "outputs": [
      {
       "output_type": "stream",
       "stream": "stdout",
       "text": [
        "('Number of lowercase matches: ', 866)\n",
        "('Number of upper-case matches: ', 1)\n",
        "('Number of converted lower-case matches: ', 955)\n"
       ]
      }
     ],
     "prompt_number": 55
    },
    {
     "cell_type": "code",
     "collapsed": false,
     "input": [
      "import re\n",
      "# \\w matches a word character, \\w* means match zero, one or more word characters\n",
      "cabMatches = re.compile(\"cab\\w*\", re.IGNORECASE).findall(TEXT)\n",
      "print(\"Number of matches \", len(cabMatches))\n",
      "print(\"Variant forms: \", set(cabMatches)) # set removes duplicates"
     ],
     "language": "python",
     "metadata": {},
     "outputs": [
      {
       "output_type": "stream",
       "stream": "stdout",
       "text": [
        "('Number of matches ', 2462)\n",
        "('Variant forms: ', set([u'cabriola', u'cabel', u'cabables', u'caben', u'caber', u'cabizbaja', u'cabezas', u'cabezar', u'cabalgaba', u'cabucer', u'cabuces', u'cabando', u'cabalgadura', u'cabruno', u'cabellos', u'cabadas', u'cable', u'cabelleras', u'caballerizos', u'caballeros', u'cablo', u'cabroso', u'cabecera', u'cabamos', u'cabo', u'cabales', u'cabrerizo', u'caba', u'cabe', u'Cabra', u'cabr', u'caballerote', u'cabar', u'cabra', u'cabase', u'cabaron', u'caballerizas', u'cabrero', u'cababan', u'cabrillas', u'cabados', u'cabuz', u'cabarle', u'cabarla', u'cabezando', u'caballer', u'cabal', u'caban', u'cabizbajo', u'cabad', u'cablos', u'caballerescas', u'cabuzazos', u'cabaremos', u'cabas', u'cabriolas', u'cabreros', u'cabala', u'caballo', u'cabalgaduras', u'cabras', u'caballa', u'caballe', u'cabrah', u'cabado', u'caballeriza', u'caballerizo', u'cabada', u'cababa', u'cabadme', u'caballeresca', u'CABALLO', u'caballeresco', u'cabertis', u'CABALLERO', u'cabamiento', u'cabalado', u'cabestros', u'cabeza', u'cab', u'cabara', u'cabestro', u'cabare', u'cabello', u'cabalas', u'cabalar', u'cabasen', u'cables', u'caballos', u'cabable', u'cabuches', u'cabarse', u'cabida', u'cabos', u'cabido', u'caballerescos', u'cabrito', u'Caballeros', u'Caballero', u'cabeos', u'cabalero', u'cabaste', u'cabeles', u'caballera', u'caballero', u'cabezado']))\n"
       ]
      }
     ],
     "prompt_number": 56
    },
    {
     "cell_type": "code",
     "collapsed": false,
     "input": [
      "calabazaMatches = re.compile(\"calabaza\\w*\", re.IGNORECASE).findall(TEXT)\n",
      "print(\"Number of matches \", len(calabazaMatches))\n",
      "print(\"Variant forms: \", set(calabazaMatches)) # set removes duplicates"
     ],
     "language": "python",
     "metadata": {},
     "outputs": [
      {
       "output_type": "stream",
       "stream": "stdout",
       "text": [
        "('Number of matches ', 6)\n",
        "('Variant forms: ', set([u'calabaza', u'calabazadas']))\n"
       ]
      }
     ],
     "prompt_number": 57
    },
    {
     "cell_type": "code",
     "collapsed": false,
     "input": [
      "donquijoteTokens = [word for word in donquijoteWordTokens if \"balle\" in word.lower()]\n",
      "print(\"Number of matches \", len(donquijoteTokens))\n",
      "print(\"Variant forms: \", set(donquijoteTokens))"
     ],
     "language": "python",
     "metadata": {},
     "outputs": [
      {
       "output_type": "stream",
       "stream": "stdout",
       "text": [
        "('Number of matches ', 1229)\n",
        "('Variant forms: ', set([u'CABALLERO', u'caballerescas', u'caballerote', u'caballe', u'Caballero', u'caballeriza', u'ballenatos', u'acaballe', u'ballesta', u'caballeresca', u'Caballeros', u'caballerizas', u'caballeresco', u'caballer\\xc3', u'caballerizo', u'ballestas', u'ballena', u'caballerizos', u'caballeros', u'caballerescos', u'caballera', u'caballero']))\n"
       ]
      }
     ],
     "prompt_number": 58
    },
    {
     "cell_type": "code",
     "collapsed": false,
     "input": [
      "print(\"can: \", ps.stem(\"can\")) # bug\n",
      "print(\"canz: \", ps.stem(\"canz\")) # bug\n",
      "print(\"cano: \", ps.stem(\"cano\")) # bug"
     ],
     "language": "python",
     "metadata": {},
     "outputs": [
      {
       "output_type": "stream",
       "stream": "stdout",
       "text": [
        "('can: ', u'can')\n",
        "('canz: ', u'canz')\n",
        "('cano: ', u'cano')\n"
       ]
      }
     ],
     "prompt_number": 59
    },
    {
     "cell_type": "code",
     "collapsed": false,
     "input": [
      "from collections import Counter\n",
      "c = Counter(WORDS)\n",
      "c.most_common(n=10)"
     ],
     "language": "python",
     "metadata": {},
     "outputs": [
      {
       "metadata": {},
       "output_type": "pyout",
       "prompt_number": 60,
       "text": [
        "[(u'que', 20628),\n",
        " (u'de', 18217),\n",
        " (u'y', 18197),\n",
        " (u'a', 15627),\n",
        " (u'la', 10399),\n",
        " (u'en', 8251),\n",
        " (u'el', 8216),\n",
        " (u'se', 6970),\n",
        " (u'no', 6384),\n",
        " (u'los', 4755)]"
       ]
      }
     ],
     "prompt_number": 60
    },
    {
     "cell_type": "code",
     "collapsed": false,
     "input": [
      "stopwords = nltk.corpus.stopwords.words('spanish')\n",
      "WORDS = c.copy()\n",
      "for key in c:\n",
      "    if key in stopwords:\n",
      "        del WORDS[key]\n",
      "WORDS.most_common(n=20)"
     ],
     "language": "python",
     "metadata": {},
     "outputs": [
      {
       "metadata": {},
       "output_type": "pyout",
       "prompt_number": 61,
       "text": [
        "[(u'n', 4177),\n",
        " (u's', 4114),\n",
        " (u'm', 3139),\n",
        " (u'don', 2652),\n",
        " (u'quijote', 2180),\n",
        " (u'sancho', 2148),\n",
        " (u'si', 1977),\n",
        " (u'as', 1894),\n",
        " (u'dijo', 1808),\n",
        " (u'l', 1711),\n",
        " (u'ser', 1457),\n",
        " (u'hab', 1431),\n",
        " (u'tan', 1243),\n",
        " (u'or', 1192),\n",
        " (u'd', 1152),\n",
        " (u'respondi', 1079),\n",
        " (u'bien', 1050),\n",
        " (u'an', 971),\n",
        " (u'merced', 900),\n",
        " (u'qu', 888)]"
       ]
      }
     ],
     "prompt_number": 61
    },
    {
     "cell_type": "code",
     "collapsed": false,
     "input": [
      "def sample(bag, n=10):\n",
      "    \"Sample a random n-word sentence from the model described by the bag of words.\"\n",
      "    return ' '.join(random.choice(bag) for _ in range(n))"
     ],
     "language": "python",
     "metadata": {},
     "outputs": [],
     "prompt_number": 62
    },
    {
     "cell_type": "code",
     "collapsed": false,
     "input": [
      "%pylab inline\n",
      "import seaborn as sns\n",
      "import re\n",
      "import math\n",
      "import string\n",
      "from collections import Counter\n",
      "from __future__ import division"
     ],
     "language": "python",
     "metadata": {},
     "outputs": [
      {
       "output_type": "stream",
       "stream": "stdout",
       "text": [
        "Populating the interactive namespace from numpy and matplotlib\n"
       ]
      },
      {
       "output_type": "stream",
       "stream": "stderr",
       "text": [
        "WARNING: pylab import has clobbered these variables: ['sample', 'text', 'plt']\n",
        "`%matplotlib` prevents importing * from pylab and numpy\n"
       ]
      }
     ],
     "prompt_number": 63
    },
    {
     "cell_type": "code",
     "collapsed": false,
     "input": [
      "COUNTS = Counter(WORDS)\n",
      "\n",
      "print COUNTS.most_common(10)"
     ],
     "language": "python",
     "metadata": {},
     "outputs": [
      {
       "output_type": "stream",
       "stream": "stdout",
       "text": [
        "[(u'n', 4177), (u's', 4114), (u'm', 3139), (u'don', 2652), (u'quijote', 2180), (u'sancho', 2148), (u'si', 1977), (u'as', 1894), (u'dijo', 1808), (u'l', 1711)]\n"
       ]
      }
     ],
     "prompt_number": 64
    },
    {
     "cell_type": "code",
     "collapsed": false,
     "input": [
      "for w in tokens('Si quieres que te siga el can, dale pan'):\n",
      "    print COUNTS[w], w"
     ],
     "language": "python",
     "metadata": {},
     "outputs": [
      {
       "output_type": "stream",
       "stream": "stdout",
       "text": [
        "1977 si\n",
        "53 quieres\n",
        "0 que\n",
        "0 te\n",
        "4 siga\n",
        "0 el\n",
        "51 can\n",
        "4 dale\n",
        "65 pan\n"
       ]
      }
     ],
     "prompt_number": 65
    },
    {
     "cell_type": "code",
     "collapsed": false,
     "input": [
      "M = COUNTS['si']\n",
      "yscale('log'); xscale('log'); title('Frequency of n-th most frequent word and 1/n line.')\n",
      "plot([c for (w, c) in COUNTS.most_common()])\n",
      "plot([M/i for i in range(1, len(COUNTS)+1)]);"
     ],
     "language": "python",
     "metadata": {},
     "outputs": [
      {
       "metadata": {},
       "output_type": "display_data",
       "png": "[encoded data removed]",
       "text": [
        "<matplotlib.figure.Figure at 0x1b3c9090>"
       ]
      }
     ],
     "prompt_number": 66
    },
    {
     "cell_type": "code",
     "collapsed": false,
     "input": [
      "singletons = (w for w in COUNTS if COUNTS[w] == 1)\n",
      "\n",
      "lengths = map(len, singletons)\n",
      "\n",
      "Counter(lengths).most_common()"
     ],
     "language": "python",
     "metadata": {},
     "outputs": [
      {
       "metadata": {},
       "output_type": "pyout",
       "prompt_number": 67,
       "text": [
        "[(8, 1658),\n",
        " (7, 1530),\n",
        " (9, 1374),\n",
        " (10, 1129),\n",
        " (6, 1121),\n",
        " (5, 865),\n",
        " (11, 623),\n",
        " (4, 431),\n",
        " (12, 319),\n",
        " (13, 145),\n",
        " (3, 131),\n",
        " (14, 60),\n",
        " (15, 27),\n",
        " (2, 18),\n",
        " (16, 11),\n",
        " (19, 2),\n",
        " (17, 1),\n",
        " (18, 1),\n",
        " (21, 1)]"
       ]
      }
     ],
     "prompt_number": 67
    },
    {
     "cell_type": "code",
     "collapsed": false,
     "input": [
      "1357 / sum(COUNTS.values())"
     ],
     "language": "python",
     "metadata": {},
     "outputs": [
      {
       "metadata": {},
       "output_type": "pyout",
       "prompt_number": 68,
       "text": [
        "0.006415923973428524"
       ]
      }
     ],
     "prompt_number": 68
    },
    {
     "cell_type": "code",
     "collapsed": false,
     "input": [
      "hist(lengths, bins=len(set(lengths)));"
     ],
     "language": "python",
     "metadata": {},
     "outputs": [
      {
       "metadata": {},
       "output_type": "display_data",
       "png": "[encoded data removed]",
       "text": [
        "<matplotlib.figure.Figure at 0x1b27bc70>"
       ]
      }
     ],
     "prompt_number": 69
    },
    {
     "cell_type": "code",
     "collapsed": false,
     "input": [
      "def correct(word):\n",
      "    \"Find the best spelling correction for this word.\"\n",
      "    # Prefer edit distance 0, then 1, then 2; otherwise default to word itself.\n",
      "    candidates = (known(edits0(word)) or \n",
      "                  known(edits1(word)) or \n",
      "                  known(edits2(word)) or \n",
      "                  [word])\n",
      "    return max(candidates, key=COUNTS.get)"
     ],
     "language": "python",
     "metadata": {},
     "outputs": [],
     "prompt_number": 70
    },
    {
     "cell_type": "code",
     "collapsed": false,
     "input": [
      "def known(words):\n",
      "    \"Return the subset of words that are actually in the dictionary.\"\n",
      "    return {w for w in words if w in COUNTS}\n",
      "\n",
      "def edits0(word): \n",
      "    \"Return all strings that are zero edits away from word (i.e., just word itself).\"\n",
      "    return {word}\n",
      "\n",
      "def edits2(word):\n",
      "    \"Return all strings that are two edits away from this word.\"\n",
      "    return {e2 for e1 in edits1(word) for e2 in edits1(e1)}"
     ],
     "language": "python",
     "metadata": {},
     "outputs": [],
     "prompt_number": 71
    },
    {
     "cell_type": "code",
     "collapsed": false,
     "input": [
      "def edits1(word):\n",
      "    \"Return all strings that are one edit away from this word.\"\n",
      "    pairs      = splits(word)\n",
      "    deletes    = [a+b[1:]           for (a, b) in pairs if b]\n",
      "    transposes = [a+b[1]+b[0]+b[2:] for (a, b) in pairs if len(b) > 1]\n",
      "    replaces   = [a+c+b[1:]         for (a, b) in pairs for c in alphabet if b]\n",
      "    inserts    = [a+c+b             for (a, b) in pairs for c in alphabet]\n",
      "    return set(deletes + transposes + replaces + inserts)\n",
      "\n",
      "def splits(word):\n",
      "    \"Return a list of all possible (first, rest) pairs that comprise word.\"\n",
      "    return [(word[:i], word[i:]) \n",
      "            for i in range(len(word)+1)]\n",
      "\n",
      "alphabet = 'abcdefghijklmnopqrstuvwxyz'"
     ],
     "language": "python",
     "metadata": {},
     "outputs": [],
     "prompt_number": 72
    },
    {
     "cell_type": "code",
     "collapsed": false,
     "input": [
      "splits('reina')"
     ],
     "language": "python",
     "metadata": {},
     "outputs": [
      {
       "metadata": {},
       "output_type": "pyout",
       "prompt_number": 73,
       "text": [
        "[('', 'reina'),\n",
        " ('r', 'eina'),\n",
        " ('re', 'ina'),\n",
        " ('rei', 'na'),\n",
        " ('rein', 'a'),\n",
        " ('reina', '')]"
       ]
      }
     ],
     "prompt_number": 73
    },
    {
     "cell_type": "code",
     "collapsed": false,
     "input": [
      "print edits0('rey')"
     ],
     "language": "python",
     "metadata": {},
     "outputs": [
      {
       "output_type": "stream",
       "stream": "stdout",
       "text": [
        "set(['rey'])\n"
       ]
      }
     ],
     "prompt_number": 74
    },
    {
     "cell_type": "code",
     "collapsed": false,
     "input": [
      "print edits1('rey')"
     ],
     "language": "python",
     "metadata": {},
     "outputs": [
      {
       "output_type": "stream",
       "stream": "stdout",
       "text": [
        "set(['req', 'rew', 'yey', 'roy', 'mrey', 'zey', 'rty', 'xey', 'rzey', 'iey', 'crey', 'rsey', 're', 'rgy', 'zrey', 'vey', 'rexy', 'rtey', 'wey', 'riey', 'repy', 'remy', 'gey', 'rem', 'rjey', 'rqey', 'rny', 'rcey', 'reay', 'rwy', 'rney', 'urey', 'cey', 'rgey', 'eey', 'aey', 'rery', 'rfy', 'reiy', 'ryey', 'rmy', 'reby', 'sey', 'grey', 'tey', 'ey', 'rry', 'qey', 'rez', 'rex', 'rey', 'rejy', 'pey', 'rer', 'res', 'rep', 'erey', 'rev', 'ry', 'ret', 'reu', 'rej', 'rek', 'reh', 'rei', 'ren', 'reo', 'rel', 'ney', 'reb', 'rec', 'rea', 'ref', 'reg', 'red', 'ree', 'drey', 'rmey', 'oey', 'resy', 'frey', 'ruy', 'rly', 'key', 'reuy', 'ley', 'mey', 'rfey', 'lrey', 'reky', 'rdy', 'qrey', 'recy', 'orey', 'rezy', 'raey', 'reyd', 'rbey', 'rpy', 'redy', 'hrey', 'rky', 'rehy', 'rley', 'ruey', 'reyp', 'rwey', 'reya', 'rhey', 'rely', 'rcy', 'jey', 'hey', 'prey', 'regy', 'reym', 'rety', 'jrey', 'fey', 'reey', 'rjy', 'rsy', 'nrey', 'wrey', 'dey', 'rby', 'ery', 'trey', 'bey', 'yrey', 'rpey', 'uey', 'arey', 'rzy', 'refy', 'reye', 'reyf', 'reyg', 'reqy', 'reyb', 'riy', 'reyl', 'krey', 'reyn', 'reyo', 'reyh', 'reyi', 'reyj', 'reyk', 'reyt', 'reyu', 'reyv', 'reyw', 'reyc', 'reyq', 'reyr', 'reys', 'reny', 'rvy', 'reyx', 'reyy', 'reyz', 'ray', 'rxey', 'rrey', 'rye', 'revy', 'rvey', 'ryy', 'xrey', 'rhy', 'vrey', 'irey', 'rkey', 'rqy', 'srey', 'roey', 'reoy', 'rdey', 'rxy', 'brey', 'rewy'])\n"
       ]
      }
     ],
     "prompt_number": 75
    },
    {
     "cell_type": "code",
     "collapsed": false,
     "input": [
      "print len(edits2('rey'))"
     ],
     "language": "python",
     "metadata": {},
     "outputs": [
      {
       "output_type": "stream",
       "stream": "stdout",
       "text": [
        "14352\n"
       ]
      }
     ],
     "prompt_number": 76
    },
    {
     "cell_type": "code",
     "collapsed": false,
     "input": [
      "#emmaText = nltk.Text(emmaWords)\n",
      "#emmaText.collocations(20) # 20 top bigrams separated by semi-colon\n",
      "#donquijote = nltk.Text(nltk.corpus.gutenberg.words('donquijote.txt'))"
     ],
     "language": "python",
     "metadata": {},
     "outputs": [],
     "prompt_number": 77
    },
    {
     "cell_type": "code",
     "collapsed": false,
     "input": [],
     "language": "python",
     "metadata": {},
     "outputs": []
    }
   ],
   "metadata": {}
  }
 ]
}